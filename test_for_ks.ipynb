{
 "cells": [
  {
   "cell_type": "code",
   "execution_count": 1,
   "metadata": {},
   "outputs": [],
   "source": [
    "import numpy as np\n",
    "import matplotlib.pyplot as plt\n",
    "from scipy import signal\n",
    "import wfdb\n",
    "import os\n",
    "from matplotlib.axis import Axis \n"
   ]
  },
  {
   "cell_type": "markdown",
   "metadata": {},
   "source": [
    "## Вывод графиков"
   ]
  },
  {
   "cell_type": "code",
   "execution_count": 39,
   "metadata": {},
   "outputs": [
    {
     "name": "stdout",
     "output_type": "stream",
     "text": [
      "0\n",
      "0\n",
      "0\n"
     ]
    },
    {
     "name": "stderr",
     "output_type": "stream",
     "text": [
      "/var/folders/dc/j9h4qhh53p3bpj6vy4j1p0f00000gn/T/ipykernel_27309/1387352167.py:30: RuntimeWarning: divide by zero encountered in log10\n",
      "  spectrogram = 10 * np.log10(spectrogram)\n",
      "/var/folders/dc/j9h4qhh53p3bpj6vy4j1p0f00000gn/T/ipykernel_27309/1387352167.py:41: RuntimeWarning: invalid value encountered in divide\n",
      "  high_to_mid_ratio = high_freq_sum /mid_freq_sum\n",
      "/var/folders/dc/j9h4qhh53p3bpj6vy4j1p0f00000gn/T/ipykernel_27309/1387352167.py:42: RuntimeWarning: invalid value encountered in divide\n",
      "  mid_to_low_ratio = mid_freq_sum / low_freq_sum\n"
     ]
    },
    {
     "name": "stdout",
     "output_type": "stream",
     "text": [
      "0\n",
      "0\n",
      "0\n",
      "0\n",
      "0\n",
      "0\n",
      "0\n",
      "0\n",
      "0\n",
      "0\n",
      "0\n",
      "0\n",
      "0\n",
      "0\n",
      "0\n",
      "0\n",
      "0\n",
      "0\n",
      "0\n",
      "0\n"
     ]
    }
   ],
   "source": [
    "def clear_nan(rec):\n",
    "    for j in range(len(rec)):\n",
    "        if np.isnan(ecg_signal_1[j]):\n",
    "            if j == 0:\n",
    "                ecg_signal_1[j] = ecg_signal_1[j + 1]\n",
    "            elif j == len(ecg_signal_1) - 1:\n",
    "                ecg_signal_1[j] = ecg_signal_1[j - 1]\n",
    "            else:\n",
    "                ecg_signal_1[j] = np.nanmean([ecg_signal_1[j - 1], ecg_signal_1[j + 1]])\n",
    "\n",
    "deaths_mean_freqs = []\n",
    "output_folder = 'result_death_statistics'\n",
    "if not os.path.exists(output_folder):\n",
    "    os.makedirs(output_folder)\n",
    "\n",
    "for i in range(30,53):\n",
    "    record = wfdb.rdrecord(f'sudden-cardiac-death-holter-database-1.0.0//{i}')  \n",
    "    ecg_signal_1= record.p_signal[:,1]  \n",
    "    clear_nan(ecg_signal_1)\n",
    "\n",
    "    print(np.isnan(ecg_signal_1).sum())\n",
    "    frequencies, times, spectrogram = signal.spectrogram(ecg_signal_1, fs=record.fs)\n",
    "    spectrogram = 10 * np.log10(spectrogram)\n",
    "\n",
    "\n",
    "    high_freq_indices = np.where((frequencies >= 85) & (frequencies <= 125))[0]\n",
    "    mid_freq_indices = np.where((frequencies >= 40) & (frequencies < 85))[0]\n",
    "    low_freq_indices = np.where((frequencies > 0) & (frequencies < 40))[0]\n",
    "\n",
    "    high_freq_sum = np.sum(spectrogram[high_freq_indices, :], axis=0)\n",
    "    mid_freq_sum = np.sum(spectrogram[mid_freq_indices, :], axis=0)\n",
    "    low_freq_sum = np.sum(spectrogram[low_freq_indices, :], axis=0)\n",
    "\n",
    "    high_to_mid_ratio = high_freq_sum /mid_freq_sum\n",
    "    mid_to_low_ratio = mid_freq_sum / low_freq_sum\n",
    "\n",
    "    mean_high_to_mid = np.nanmean(high_to_mid_ratio)\n",
    "\n",
    "    median_high_to_mid = np.nanmedian(high_to_mid_ratio)\n",
    "\n",
    "    std_high_to_mid = np.nanstd(high_to_mid_ratio)\n",
    "    \n",
    "\n",
    "    plt.figure(figsize=(15, 6))\n",
    "    plt.scatter(mid_to_low_ratio, high_to_mid_ratio, color='green', label='High/Mid vs. Mid/Low', alpha=0.5,  edgecolors='black')\n",
    "    plt.axhline(mean_high_to_mid, color='red', linestyle='--', label='Mean')\n",
    "    plt.axhline(median_high_to_mid, color='orange', linestyle='-.', label='Median')\n",
    "    plt.axhline(mean_high_to_mid + std_high_to_mid, color='lightgreen', linestyle='-', label='Mean + STD')\n",
    "    plt.axhline(mean_high_to_mid - std_high_to_mid, color='lightgreen', linestyle='-', label='Mean - STD')\n",
    "    # plt.title(f'High/Mid для {i}')\n",
    "    plt.xlabel('Mid/Low ratio')\n",
    "    plt.ylabel('High/Mid ratio')\n",
    "    x_label, y_label = plt.gca().get_xlabel(), plt.gca().get_ylabel()\n",
    "\n",
    "    plt.gca().set_xlabel(x_label, fontsize=12, labelpad=10, loc='right')\n",
    "    plt.gca().set_ylabel(y_label, fontsize=12, labelpad=10, loc='top')\n",
    "    plt.ylim(0.8, 1.6) \n",
    "    plt.legend()\n",
    "    plt.grid(True)\n",
    "    plt.savefig(os.path.join(output_folder, f'ar{i}.png'))  \n",
    "    plt.close()\n",
    "\n"
   ]
  },
  {
   "cell_type": "markdown",
   "metadata": {},
   "source": [
    "Для несмерти"
   ]
  },
  {
   "cell_type": "code",
   "execution_count": 41,
   "metadata": {},
   "outputs": [
    {
     "name": "stderr",
     "output_type": "stream",
     "text": [
      "/var/folders/dc/j9h4qhh53p3bpj6vy4j1p0f00000gn/T/ipykernel_27309/3073439057.py:14: RuntimeWarning: divide by zero encountered in log10\n",
      "  spectrogram = 10 * np.log10(spectrogram)\n",
      "/var/folders/dc/j9h4qhh53p3bpj6vy4j1p0f00000gn/T/ipykernel_27309/3073439057.py:30: RuntimeWarning: invalid value encountered in divide\n",
      "  high_to_mid_ratio = high_freq_sum /mid_freq_sum\n",
      "/var/folders/dc/j9h4qhh53p3bpj6vy4j1p0f00000gn/T/ipykernel_27309/3073439057.py:31: RuntimeWarning: invalid value encountered in divide\n",
      "  mid_to_low_ratio = mid_freq_sum / low_freq_sum\n"
     ]
    },
    {
     "data": {
      "text/plain": [
       "[]"
      ]
     },
     "execution_count": 41,
     "metadata": {},
     "output_type": "execute_result"
    }
   ],
   "source": [
    "output_folder = 'result_nodeath_statistics'\n",
    "if not os.path.exists(output_folder):\n",
    "    os.makedirs(output_folder)\n",
    "mas = ['00', '01', '03', '05','06', '07', '08', '10', '101', '102', '104', '105' , '11', '110','113', '114', '115', '116', '117','118','119','12']\n",
    "\n",
    "no_deaths_mean_freqs = []\n",
    "\n",
    "for i in mas:\n",
    "    record = wfdb.rdrecord(f'nodeath_dataset/{i}')  \n",
    "    ecg_signal_1= record.p_signal[:, 1]  # Получение сигнала ЭКГ\n",
    "    ecg_signal = record.p_signal\n",
    "    \n",
    "    frequencies, times, spectrogram = signal.spectrogram(ecg_signal_1, fs=record.fs)\n",
    "    spectrogram = 10 * np.log10(spectrogram)\n",
    "    high_freq_indices = np.where((frequencies >= 43) & (frequencies <= 65))[0]\n",
    "    mid_freq_indices = np.where((frequencies >= 22) & (frequencies < 43))[0]\n",
    "    low_freq_indices = np.where((frequencies >= 0) & (frequencies < 22))[0]\n",
    "    \n",
    "    high_freq_sum = np.sum(spectrogram[high_freq_indices, :], axis=0)\n",
    "    mid_freq_sum = np.sum(spectrogram[mid_freq_indices, :], axis=0)\n",
    "    low_freq_sum = np.sum(spectrogram[low_freq_indices, :], axis=0)\n",
    "\n",
    "    # high_to_mid_ratio = high_freq_sum / mid_freq_sum\n",
    "    # mid_to_low_ratio = mid_freq_sum / low_freq_sum\n",
    "   \n",
    "    # mean_freq = np.nanmean(high_to_mid_ratio)  # Средняя частота\n",
    "\n",
    "    # no_deaths_mean_freqs.append(mean_freq)\n",
    "\n",
    "    high_to_mid_ratio = high_freq_sum /mid_freq_sum\n",
    "    mid_to_low_ratio = mid_freq_sum / low_freq_sum\n",
    "\n",
    "    mean_high_to_mid = np.nanmean(high_to_mid_ratio)\n",
    "\n",
    "    median_high_to_mid = np.nanmedian(high_to_mid_ratio)\n",
    "\n",
    "    std_high_to_mid = np.nanstd(high_to_mid_ratio)\n",
    "    \n",
    "\n",
    "    plt.figure(figsize=(15, 6))\n",
    "    plt.scatter(mid_to_low_ratio, high_to_mid_ratio, color='green', label='High/Mid vs. Mid/Low', alpha=0.5,  edgecolors='black')\n",
    "    plt.axhline(mean_high_to_mid, color='red', linestyle='--', label='Mean')\n",
    "    plt.axhline(median_high_to_mid, color='orange', linestyle='-.', label='Median')\n",
    "    plt.axhline(mean_high_to_mid + std_high_to_mid, color='lightgreen', linestyle='-', label='Mean + STD')\n",
    "    plt.axhline(mean_high_to_mid - std_high_to_mid, color='lightgreen', linestyle='-', label='Mean - STD')\n",
    "    # plt.title(f'High/Mid для {i}')\n",
    "    plt.xlabel('Mid/Low ratio')\n",
    "    plt.ylabel('High/Mid ratio')\n",
    "    x_label, y_label = plt.gca().get_xlabel(), plt.gca().get_ylabel()\n",
    "\n",
    "    # Установить новые координаты для меток оси x и y\n",
    "    plt.gca().set_xlabel(x_label, fontsize=12, labelpad=10, loc='right')\n",
    "    plt.gca().set_ylabel(y_label, fontsize=12, labelpad=10, loc='top')\n",
    "    plt.ylim(0.8, 1.6) \n",
    "    plt.legend()\n",
    "    plt.grid(True)\n",
    "    plt.savefig(os.path.join(output_folder, f'ar{i}.png'))  \n",
    "    plt.close()\n",
    "no_deaths_mean_freqs\n"
   ]
  },
  {
   "cell_type": "markdown",
   "metadata": {},
   "source": [
    "## Расчеты для смертных случаев и для \"живых\""
   ]
  },
  {
   "cell_type": "markdown",
   "metadata": {},
   "source": [
    "Экг, заканчивающиеся смертью"
   ]
  },
  {
   "cell_type": "code",
   "execution_count": 42,
   "metadata": {},
   "outputs": [
    {
     "name": "stdout",
     "output_type": "stream",
     "text": [
      "0\n",
      "0\n",
      "0\n"
     ]
    },
    {
     "name": "stderr",
     "output_type": "stream",
     "text": [
      "/var/folders/dc/j9h4qhh53p3bpj6vy4j1p0f00000gn/T/ipykernel_27309/660483195.py:26: RuntimeWarning: divide by zero encountered in log10\n",
      "  spectrogram = 10 * np.log10(spectrogram)\n",
      "/var/folders/dc/j9h4qhh53p3bpj6vy4j1p0f00000gn/T/ipykernel_27309/660483195.py:37: RuntimeWarning: invalid value encountered in divide\n",
      "  high_to_mid_ratio = high_freq_sum /mid_freq_sum\n",
      "/var/folders/dc/j9h4qhh53p3bpj6vy4j1p0f00000gn/T/ipykernel_27309/660483195.py:38: RuntimeWarning: invalid value encountered in divide\n",
      "  mid_to_low_ratio = mid_freq_sum / low_freq_sum\n"
     ]
    },
    {
     "name": "stdout",
     "output_type": "stream",
     "text": [
      "0\n",
      "0\n",
      "0\n",
      "0\n",
      "0\n",
      "0\n",
      "0\n",
      "0\n",
      "0\n",
      "0\n",
      "0\n",
      "0\n",
      "0\n",
      "0\n",
      "0\n",
      "0\n",
      "0\n",
      "0\n",
      "0\n",
      "0\n"
     ]
    },
    {
     "data": {
      "text/plain": [
       "[0.9475883975803772,\n",
       " 0.9548176745765717,\n",
       " 0.990014785403616,\n",
       " 0.9664776910392748,\n",
       " 0.9041603518248921,\n",
       " 0.9532912504517371,\n",
       " 0.9862715822265472,\n",
       " 0.9908807339355149,\n",
       " 0.9082471477837681,\n",
       " 1.0425896461716813,\n",
       " 1.001165058545328,\n",
       " 0.9405793553138305,\n",
       " 1.0677707301037127,\n",
       " 0.956803826657753,\n",
       " 0.9451776007441,\n",
       " 0.9945590425868073,\n",
       " 0.9611905523410587,\n",
       " 0.9253675518754974,\n",
       " 0.952087390900446,\n",
       " 0.9449425766728953,\n",
       " 0.9939915112734359,\n",
       " 1.1519001890426521,\n",
       " 1.031931879005581]"
      ]
     },
     "execution_count": 42,
     "metadata": {},
     "output_type": "execute_result"
    }
   ],
   "source": [
    "def clear_nan(rec):\n",
    "    for j in range(len(rec)):\n",
    "        if np.isnan(ecg_signal_1[j]):\n",
    "            if j == 0:\n",
    "                ecg_signal_1[j] = ecg_signal_1[j + 1]\n",
    "            elif j == len(ecg_signal_1) - 1:\n",
    "                ecg_signal_1[j] = ecg_signal_1[j - 1]\n",
    "            else:\n",
    "                ecg_signal_1[j] = np.nanmean([ecg_signal_1[j - 1], ecg_signal_1[j + 1]])\n",
    "\n",
    "deaths_mean_freqs = []\n",
    "output_folder = 'result_death_statistics'\n",
    "if not os.path.exists(output_folder):\n",
    "    os.makedirs(output_folder)\n",
    "\n",
    "for i in range(30,53):\n",
    "    record = wfdb.rdrecord(f'sudden-cardiac-death-holter-database-1.0.0//{i}')  \n",
    "    ecg_signal_1= record.p_signal[:,1]  \n",
    "    ecg_signal = record.p_signal\n",
    "    clear_nan(ecg_signal_1)\n",
    "\n",
    "    print(np.isnan(ecg_signal_1).sum())\n",
    "    frequencies, times, spectrogram = signal.spectrogram(ecg_signal_1, fs=record.fs)\n",
    "    #spectrogram = np.nan_to_num(spectrogram, nan=np.nanmean(spectrogram))\n",
    "    #spectrogram  = np.clip(spectrogram,1e-7, np.max(spectrogram))\n",
    "    spectrogram = 10 * np.log10(spectrogram)\n",
    "\n",
    "\n",
    "    high_freq_indices = np.where((frequencies >= 85) & (frequencies <= 125))[0]\n",
    "    mid_freq_indices = np.where((frequencies >= 40) & (frequencies < 85))[0]\n",
    "    low_freq_indices = np.where((frequencies > 0) & (frequencies < 40))[0]\n",
    "\n",
    "    high_freq_sum = np.sum(spectrogram[high_freq_indices, :], axis=0)\n",
    "    mid_freq_sum = np.sum(spectrogram[mid_freq_indices, :], axis=0)\n",
    "    low_freq_sum = np.sum(spectrogram[low_freq_indices, :], axis=0)\n",
    "\n",
    "    high_to_mid_ratio = high_freq_sum /mid_freq_sum\n",
    "    mid_to_low_ratio = mid_freq_sum / low_freq_sum\n",
    "    # print(np.isnan(high_to_mid_ratio).sum())\n",
    "    mean_freq = np.nanmean(high_to_mid_ratio)  # Средняя частота\n",
    "    #print(mean_freq)\n",
    "    \n",
    "    deaths_mean_freqs.append(mean_freq)\n",
    "\n",
    "deaths_mean_freqs"
   ]
  },
  {
   "cell_type": "markdown",
   "metadata": {},
   "source": [
    "ЭКГ, не заканчивающиеся смертью"
   ]
  },
  {
   "cell_type": "code",
   "execution_count": 43,
   "metadata": {},
   "outputs": [
    {
     "name": "stderr",
     "output_type": "stream",
     "text": [
      "/var/folders/dc/j9h4qhh53p3bpj6vy4j1p0f00000gn/T/ipykernel_27309/4103141242.py:13: RuntimeWarning: divide by zero encountered in log10\n",
      "  spectrogram = 10 * np.log10(spectrogram)\n",
      "/var/folders/dc/j9h4qhh53p3bpj6vy4j1p0f00000gn/T/ipykernel_27309/4103141242.py:22: RuntimeWarning: invalid value encountered in divide\n",
      "  high_to_mid_ratio = high_freq_sum / mid_freq_sum\n",
      "/var/folders/dc/j9h4qhh53p3bpj6vy4j1p0f00000gn/T/ipykernel_27309/4103141242.py:23: RuntimeWarning: invalid value encountered in divide\n",
      "  mid_to_low_ratio = mid_freq_sum / low_freq_sum\n"
     ]
    },
    {
     "data": {
      "text/plain": [
       "[1.3621966209128522,\n",
       " 1.046522106010313,\n",
       " 1.1077363653979253,\n",
       " 1.142550228652538,\n",
       " 1.166564531502588,\n",
       " 1.1180808444099815,\n",
       " 1.1113951916838274,\n",
       " 1.2348390250232626,\n",
       " 1.216249016514965,\n",
       " 1.23914459130186,\n",
       " 1.1518962975311402,\n",
       " 1.099818114656642,\n",
       " 1.0480284219987028,\n",
       " 1.1403193449643516,\n",
       " 1.0698568190551585,\n",
       " 1.130577645494146,\n",
       " 1.208324459858717,\n",
       " 1.1277483956390955,\n",
       " 1.178022202729632,\n",
       " 1.1171177806892205,\n",
       " 1.1043727504254166,\n",
       " 1.1419330623646746]"
      ]
     },
     "execution_count": 43,
     "metadata": {},
     "output_type": "execute_result"
    }
   ],
   "source": [
    "no_deaths_mean_freqs = []\n",
    "\n",
    "mas = ['00', '01', '03', '05','06', '07', '08', '10', '101', '102', '104', '105' , '11', '110','113', '114', '115', '116', '117','118','119','12']\n",
    "\n",
    "no_deaths_mean_freqs = []\n",
    "\n",
    "for i in mas:\n",
    "    record = wfdb.rdrecord(f'nodeath_dataset/{i}')    \n",
    "    ecg_signal_1= record.p_signal[:, 1]  # Получение сигнала ЭКГ\n",
    "    ecg_signal = record.p_signal\n",
    "    \n",
    "    frequencies, times, spectrogram = signal.spectrogram(ecg_signal_1, fs=record.fs)\n",
    "    spectrogram = 10 * np.log10(spectrogram)\n",
    "    high_freq_indices = np.where((frequencies >= 43) & (frequencies <= 65))[0]\n",
    "    mid_freq_indices = np.where((frequencies >= 22) & (frequencies < 43))[0]\n",
    "    low_freq_indices = np.where((frequencies >= 0) & (frequencies < 22))[0]\n",
    "    \n",
    "    high_freq_sum = np.sum(spectrogram[high_freq_indices, :], axis=0)\n",
    "    mid_freq_sum = np.sum(spectrogram[mid_freq_indices, :], axis=0)\n",
    "    low_freq_sum = np.sum(spectrogram[low_freq_indices, :], axis=0)\n",
    "\n",
    "    high_to_mid_ratio = high_freq_sum / mid_freq_sum\n",
    "    mid_to_low_ratio = mid_freq_sum / low_freq_sum\n",
    "   \n",
    "    mean_freq = np.nanmean(high_to_mid_ratio)  # Средняя частота\n",
    "\n",
    "    no_deaths_mean_freqs.append(mean_freq)\n",
    "no_deaths_mean_freqs\n"
   ]
  },
  {
   "cell_type": "code",
   "execution_count": 97,
   "metadata": {},
   "outputs": [
    {
     "name": "stdout",
     "output_type": "stream",
     "text": [
      "0.9787741967850903\n",
      "1.1483315371280458\n"
     ]
    }
   ],
   "source": [
    "print(np.nanmean(deaths_mean_freqs))\n",
    "print(np.nanmean(no_deaths_mean_freqs))"
   ]
  },
  {
   "cell_type": "code",
   "execution_count": 106,
   "metadata": {},
   "outputs": [
    {
     "name": "stdout",
     "output_type": "stream",
     "text": [
      "Sp 0.0622878517788548\n",
      "Интервал [-0.20577905147474576, -0.13333562921116535]\n",
      "Средняя частота смертельных случаев:0.9787741967850903\n",
      "Стандартное отклонение смертельных случаев:0.05400450397813733\n",
      "95% доверительный интервал для смертельных случаев: [0.9568157976533739, 1.0007325959168065]\n",
      "Средняя частота случаев без смерти:1.1483315371280458\n",
      "Стандартное отклонение случаев без смерти:0.06992093722412984\n",
      "95% доверительный интервал для случаев без смерти:[1.1192625090143875, 1.1774005652417041]\n"
     ]
    }
   ],
   "source": [
    "\n",
    "deaths_mean = np.mean(deaths_mean_freqs)\n",
    "no_deaths_mean = np.mean(no_deaths_mean_freqs)\n",
    "\n",
    "deaths_std = np.std(deaths_mean_freqs)\n",
    "no_deaths_std = np.std(no_deaths_mean_freqs)\n",
    "\n",
    "deaths_conf_interval = [deaths_mean - 1.95 * deaths_std / np.sqrt(len(deaths_mean_freqs)),\n",
    "                        deaths_mean + 1.95 * deaths_std / np.sqrt(len(deaths_mean_freqs))]\n",
    "\n",
    "no_deaths_conf_interval = [no_deaths_mean - 1.95 * no_deaths_std / np.sqrt(len(no_deaths_mean_freqs)),\n",
    "                            no_deaths_mean + 1.95 * no_deaths_std / np.sqrt(len(no_deaths_mean_freqs))]\n",
    "\n",
    "n1 = 23 #death\n",
    "n2 = len(mas) #nodeath \n",
    "Sp = np.sqrt(((n1-1)*deaths_std*deaths_std + (n2-1)*no_deaths_std*no_deaths_std)/(n1+n2-2))\n",
    "interval = [deaths_mean-no_deaths_mean - 1.95 * Sp * np.sqrt(1/n1 + 1/n2),\n",
    "            deaths_mean-no_deaths_mean + 1.95 * Sp * np.sqrt(1/n1 + 1/n2)]\n",
    "\n",
    "print(f'Sp {Sp}')\n",
    "print(f'Интервал {interval}')\n",
    "print(f\"Средняя частота смертельных случаев:{deaths_mean}\")\n",
    "print(f\"Стандартное отклонение смертельных случаев:{deaths_std}\")\n",
    "print(f\"95% доверительный интервал для смертельных случаев: {deaths_conf_interval}\")\n",
    "\n",
    "print(f\"Средняя частота случаев без смерти:{no_deaths_mean}\")\n",
    "print(f\"Стандартное отклонение случаев без смерти:{no_deaths_std}\")\n",
    "print(f\"95% доверительный интервал для случаев без смерти:{no_deaths_conf_interval}\")\n"
   ]
  },
  {
   "cell_type": "code",
   "execution_count": null,
   "metadata": {},
   "outputs": [],
   "source": []
  }
 ],
 "metadata": {
  "kernelspec": {
   "display_name": "Python 3",
   "language": "python",
   "name": "python3"
  },
  "language_info": {
   "codemirror_mode": {
    "name": "ipython",
    "version": 3
   },
   "file_extension": ".py",
   "mimetype": "text/x-python",
   "name": "python",
   "nbconvert_exporter": "python",
   "pygments_lexer": "ipython3",
   "version": "3.11.0"
  }
 },
 "nbformat": 4,
 "nbformat_minor": 2
}
